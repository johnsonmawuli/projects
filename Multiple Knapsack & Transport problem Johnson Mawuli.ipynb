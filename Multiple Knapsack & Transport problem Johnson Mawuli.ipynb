{
 "cells": [
  {
   "cell_type": "markdown",
   "id": "37626b0c",
   "metadata": {},
   "source": [
    "## Question 1\n",
    "#### Multiple Knapsack Problem"
   ]
  },
  {
   "cell_type": "code",
   "execution_count": 5,
   "id": "882d69d3",
   "metadata": {},
   "outputs": [],
   "source": [
    "import gurobipy as gp\n",
    "from gurobipy import *\n",
    "import numpy as np\n",
    "import pandas as pd\n",
    "import time as time"
   ]
  },
  {
   "cell_type": "code",
   "execution_count": 6,
   "id": "894ea6b3",
   "metadata": {},
   "outputs": [],
   "source": [
    "rnd = np.random"
   ]
  },
  {
   "cell_type": "markdown",
   "id": "e0f0d06d",
   "metadata": {},
   "source": [
    "#### specifying the number of items "
   ]
  },
  {
   "cell_type": "code",
   "execution_count": 7,
   "id": "34d41bc1",
   "metadata": {},
   "outputs": [],
   "source": [
    "N = 500\n",
    "K = 30"
   ]
  },
  {
   "cell_type": "markdown",
   "id": "3353a1cf",
   "metadata": {},
   "source": [
    "(NB: using large numbers does not work for this gurobi academic version )"
   ]
  },
  {
   "cell_type": "code",
   "execution_count": 8,
   "id": "93fd42e1",
   "metadata": {
    "scrolled": true
   },
   "outputs": [],
   "source": [
    "n=[i for i in range(1, N + 1)]\n",
    "k=[j for j in range(1, K + 1)]"
   ]
  },
  {
   "cell_type": "markdown",
   "id": "0931c477",
   "metadata": {},
   "source": [
    "#### randomly generating the value (v), weight (w), and capacity (c) of these knapsacks"
   ]
  },
  {
   "cell_type": "code",
   "execution_count": 9,
   "id": "0c238322",
   "metadata": {},
   "outputs": [],
   "source": [
    "v = {i: rnd.randint(10, 100) for i in n}\n",
    "w = {i: rnd.randint(10, 1000) for i in n}\n",
    "c = {j: rnd.randint(100, 3000) for j in k} # we need K capacity for k knapsacks"
   ]
  },
  {
   "cell_type": "markdown",
   "id": "f2882591",
   "metadata": {},
   "source": [
    "#### Model Initialization"
   ]
  },
  {
   "cell_type": "code",
   "execution_count": 10,
   "id": "60226541",
   "metadata": {},
   "outputs": [
    {
     "name": "stdout",
     "output_type": "stream",
     "text": [
      "Set parameter Username\n",
      "Academic license - for non-commercial use only - expires 2024-01-26\n"
     ]
    }
   ],
   "source": [
    "model = gp.Model('Knapsack')"
   ]
  },
  {
   "cell_type": "markdown",
   "id": "46a2fd2b",
   "metadata": {},
   "source": [
    "#### our decision variable"
   ]
  },
  {
   "cell_type": "code",
   "execution_count": 11,
   "id": "bb6d5e80",
   "metadata": {},
   "outputs": [],
   "source": [
    "x={}\n",
    "for i in n:\n",
    "    for j in k:\n",
    "        x[i,j] = model.addVar(vtype=GRB.BINARY, name=\"x(%s,%s)\" % (i,j))"
   ]
  },
  {
   "cell_type": "markdown",
   "id": "96470410",
   "metadata": {},
   "source": [
    "#### item constraint"
   ]
  },
  {
   "cell_type": "code",
   "execution_count": 12,
   "id": "57c44597",
   "metadata": {},
   "outputs": [],
   "source": [
    "for i in n:\n",
    "    model.addConstr(quicksum(x[i,j] for j in k)<=1)"
   ]
  },
  {
   "cell_type": "markdown",
   "id": "2d8b3776",
   "metadata": {},
   "source": [
    "#### weight constraint"
   ]
  },
  {
   "cell_type": "code",
   "execution_count": 13,
   "id": "251183c5",
   "metadata": {},
   "outputs": [],
   "source": [
    "for j in k:\n",
    "    model.addConstr(quicksum(w[i] * x[i, j] for i in n ) <= c[j])"
   ]
  },
  {
   "cell_type": "markdown",
   "id": "7b859c02",
   "metadata": {},
   "source": [
    "#### objective function"
   ]
  },
  {
   "cell_type": "code",
   "execution_count": 14,
   "id": "d91e079d",
   "metadata": {},
   "outputs": [],
   "source": [
    "model.setObjective(quicksum(x[i, j]*v[i] for i in n for j in k), GRB.MAXIMIZE)"
   ]
  },
  {
   "cell_type": "markdown",
   "id": "38c4ed95",
   "metadata": {},
   "source": [
    "#### updating and writing the model"
   ]
  },
  {
   "cell_type": "code",
   "execution_count": 15,
   "id": "df0e82bc",
   "metadata": {},
   "outputs": [],
   "source": [
    "model.update()\n",
    "model.write('0knapsack.lp')"
   ]
  },
  {
   "cell_type": "markdown",
   "id": "74517bde",
   "metadata": {},
   "source": [
    "#### solving the model and printing the solution"
   ]
  },
  {
   "cell_type": "code",
   "execution_count": null,
   "id": "8a571015",
   "metadata": {},
   "outputs": [
    {
     "name": "stdout",
     "output_type": "stream",
     "text": [
      "Gurobi Optimizer version 10.0.0 build v10.0.0rc2 (mac64[x86])\n",
      "\n",
      "CPU model: Intel(R) Core(TM) i3-1000NG4 CPU @ 1.10GHz\n",
      "Thread count: 2 physical cores, 4 logical processors, using up to 4 threads\n",
      "\n",
      "Optimize a model with 530 rows, 15000 columns and 30000 nonzeros\n",
      "Model fingerprint: 0xaa66ca71\n",
      "Variable types: 0 continuous, 15000 integer (15000 binary)\n",
      "Coefficient statistics:\n",
      "  Matrix range     [1e+00, 1e+03]\n",
      "  Objective range  [1e+01, 1e+02]\n",
      "  Bounds range     [1e+00, 1e+00]\n",
      "  RHS range        [1e+00, 3e+03]\n",
      "Found heuristic solution: objective 6041.0000000\n",
      "Presolve removed 0 rows and 2664 columns\n",
      "Presolve time: 0.12s\n",
      "Presolved: 530 rows, 12336 columns, 24672 nonzeros\n",
      "Variable types: 0 continuous, 12336 integer (12336 binary)\n",
      "Found heuristic solution: objective 8460.0000000\n",
      "\n",
      "Root relaxation: objective 1.183264e+04, 1323 iterations, 0.08 seconds (0.08 work units)\n",
      "\n",
      "    Nodes    |    Current Node    |     Objective Bounds      |     Work\n",
      " Expl Unexpl |  Obj  Depth IntInf | Incumbent    BestBd   Gap | It/Node Time\n",
      "\n",
      "     0     0 11832.6364    0   31 8460.00000 11832.6364  39.9%     -    0s\n",
      "H    0     0                    11554.000000 11832.6364  2.41%     -    0s\n",
      "H    0     0                    11608.000000 11832.6364  1.94%     -    0s\n",
      "     0     0 11832.6364    0   64 11608.0000 11832.6364  1.94%     -    0s\n",
      "H    0     0                    11750.000000 11832.6364  0.70%     -    1s\n",
      "     0     0 11832.6364    0   70 11750.0000 11832.6364  0.70%     -    1s\n",
      "     0     0 11832.6364    0   41 11750.0000 11832.6364  0.70%     -    1s\n",
      "     0     0 11832.6364    0   41 11750.0000 11832.6364  0.70%     -    1s\n",
      "     0     0 11832.6364    0   23 11750.0000 11832.6364  0.70%     -    1s\n",
      "     0     0 11832.6364    0   24 11750.0000 11832.6364  0.70%     -    1s\n",
      "     0     0 11832.6364    0   30 11750.0000 11832.6364  0.70%     -    1s\n",
      "     0     0 11832.6364    0   20 11750.0000 11832.6364  0.70%     -    2s\n",
      "     0     2 11832.6364    0   17 11750.0000 11832.6364  0.70%     -    2s\n",
      "H  164   166                    11795.000000 11832.6364  0.32%  16.0    3s\n",
      "   364   440 11832.6112  121   42 11795.0000 11832.6364  0.32%  14.6    5s\n",
      "  1302  1420 11822.1266  512   35 11795.0000 11832.6364  0.32%   9.5   10s\n",
      "  1806  1667 11832.3155   62   39 11795.0000 11832.3155  0.32%  10.0   15s\n",
      "  1836  1688 11832.1034  269   38 11795.0000 11832.3155  0.32%  29.6   21s\n",
      "  1969  1925 11832.0075   42   43 11795.0000 11832.3155  0.32%  50.1   25s\n",
      "  3122  2720 11831.6207  193   50 11795.0000 11832.2250  0.32%  35.5   31s\n",
      "H 3218  2603                    11796.000000 11832.2250  0.31%  34.8   31s\n",
      "  3898  3673 11831.4444  261   49 11796.0000 11832.2250  0.31%  30.3   35s\n",
      "H 5246  3829                    11808.000000 11832.2250  0.21%  26.8   38s\n",
      "  5947  4663 11831.2143  561   50 11808.0000 11832.2250  0.21%  25.9   40s\n",
      "  7763  6028 11830.9443  832   49 11808.0000 11832.2250  0.21%  22.5   51s\n",
      "  8315  7248 11830.8931  888   49 11808.0000 11832.2250  0.21%  21.7   55s\n",
      " 10872  8638 11831.5766  141   30 11808.0000 11832.2250  0.21%  18.2   60s\n",
      " 11069  9004 11832.2250   65   48 11808.0000 11832.2250  0.21%  20.6   66s\n",
      " 11762  9409 11831.9195  149   47 11808.0000 11832.2250  0.21%  20.1   70s\n",
      " 12523 10185 11831.5766  260   46 11808.0000 11832.2250  0.21%  19.4   75s\n",
      " 13705 11260 11830.1895  392   46 11808.0000 11832.2250  0.21%  18.7   80s\n",
      " 15197 12065 11829.8221  567   45 11808.0000 11832.2250  0.21%  17.9   86s\n",
      " 16474 12914 11813.8070  741   48 11808.0000 11832.2250  0.21%  17.4   90s\n",
      "H17530 12280                    11813.000000 11832.2250  0.16%  17.1   92s\n",
      " 18594 13081 11815.2145  997   48 11813.0000 11832.2250  0.16%  16.5   95s\n",
      " 20542 14320 11825.9114 1245   41 11813.0000 11832.2250  0.16%  15.6  100s\n",
      " 21489 14440 11819.0000 1367   30 11813.0000 11832.2250  0.16%  15.2  108s\n",
      " 22077 18168 11819.0000 1440   34 11813.0000 11832.2250  0.16%  15.0  114s\n",
      " 26081 17723 11830.2928  846   47 11813.0000 11832.2250  0.16%  13.9  115s\n",
      " 29965 19635 11831.7391  194   41 11813.0000 11832.2250  0.16%  13.3  120s\n",
      " 32066 20493 11825.0000 2922   20 11813.0000 11832.2250  0.16%  12.9  125s\n",
      " 32112 20529 11832.2250   53   27 11813.0000 11832.2250  0.16%  13.8  130s\n",
      " 32861 21342 11829.1060  154   35 11813.0000 11832.2250  0.16%  13.7  136s\n",
      " 33916 22142 11826.4295  304   41 11813.0000 11832.2250  0.16%  13.6  140s\n",
      " 34667 22431 11825.8255  409   39 11813.0000 11832.2250  0.16%  13.5  145s\n",
      " 36572 24041 11832.0115  679   38 11813.0000 11832.2250  0.16%  13.2  150s\n",
      " 38298 25218 11831.9750  894   36 11813.0000 11832.2250  0.16%  13.1  155s\n",
      " 40044 26520 11831.9452 1111   36 11813.0000 11832.2250  0.16%  12.9  160s\n",
      " 42607 27329 11825.1912  557   20 11813.0000 11832.2250  0.16%  12.7  169s\n",
      " 42610 27331 11826.0000 2094   41 11813.0000 11832.2250  0.16%  12.7  170s\n",
      " 42618 27336 11831.8765   89   48 11813.0000 11832.2250  0.16%  12.7  175s\n",
      " 42628 27346 11832.2250   57   38 11813.0000 11832.2250  0.16%  13.5  181s\n",
      " 42766 27655 11832.1148   72   39 11813.0000 11832.2250  0.16%  13.5  186s\n",
      " 43309 27933 11831.8267  140   43 11813.0000 11832.2250  0.16%  13.4  190s\n",
      " 44147 28612 11828.6076  235   42 11813.0000 11832.2250  0.16%  13.3  196s\n",
      " 45409 29464 11831.8645  376   42 11813.0000 11832.2250  0.16%  13.2  201s\n",
      " 46805 30461 11831.7871  549   42 11813.0000 11832.2250  0.16%  13.0  206s\n",
      " 47137 30578 11831.7669  595   42 11813.0000 11832.2250  0.16%  13.0  211s\n",
      " 47978 31162 11831.6754  703   42 11813.0000 11832.2250  0.16%  12.9  215s\n",
      " 48898 32299 11831.5745  821   42 11813.0000 11832.2250  0.16%  12.9  220s\n",
      " 51011 33835 11831.3834 1088   42 11813.0000 11832.2250  0.16%  12.7  227s\n",
      " 52008 34354 11831.3283 1208   42 11813.0000 11832.2250  0.16%  12.6  230s\n",
      " 53868 34923 11831.0971 1489   42 11813.0000 11832.2250  0.16%  12.5  237s\n",
      " 55253 35707 11830.7713 1694   44 11813.0000 11832.2250  0.16%  12.3  241s\n",
      " 56433 36718 11830.5238 1842   42 11813.0000 11832.2250  0.16%  12.2  245s\n",
      " 58256 37788 11817.6633 2113   44 11813.0000 11832.2250  0.16%  12.2  251s\n",
      " 59563 38291 11826.5742 2267   34 11813.0000 11832.2250  0.16%  12.1  255s\n",
      " 61569 39818 11826.0870  454   44 11813.0000 11832.2250  0.16%  12.0  261s\n",
      " 63353 40897 11825.2386  976   41 11813.0000 11832.2250  0.16%  11.9  266s\n",
      " 65032 41732 11824.6862 1331   44 11813.0000 11832.2250  0.16%  11.7  270s\n",
      " 67790 43336 11818.0000 2003   46 11813.0000 11832.2250  0.16%  11.4  276s\n",
      " 69535 44975 11818.0000 2427   42 11813.0000 11832.2250  0.16%  11.3  280s\n",
      " 70753 45796 11818.0000 2701   39 11813.0000 11832.2250  0.16%  11.2  286s\n",
      " 73160 47109 11818.0000 3284   24 11813.0000 11832.2250  0.16%  11.2  290s\n",
      " 75239 48533 11831.1982  426   43 11813.0000 11832.2250  0.16%  11.0  296s\n",
      " 76654 49432 11831.1982  705   44 11813.0000 11832.2250  0.16%  10.9  301s\n",
      " 79586 50983 11830.2705 1346   47 11813.0000 11832.2250  0.16%  10.7  306s\n",
      " 81695 52465 11830.0270 1909   47 11813.0000 11832.2250  0.16%  10.5  311s\n",
      " 83673 53279 11829.6522 2403   48 11813.0000 11832.2250  0.16%  10.3  316s\n",
      " 84564 54527 11829.4284 2639   47 11813.0000 11832.2250  0.16%  10.3  322s\n",
      " 86261 55105 11831.6581  361   43 11813.0000 11832.2250  0.16%  10.1  326s\n",
      " 86802 55408 11831.5766  458   40 11813.0000 11832.2250  0.16%  10.1  330s\n",
      " 88992 56707 11831.5766  983   48 11813.0000 11832.2250  0.16%  10.1  335s\n",
      " 90441 57978 11827.4294 1327   44 11813.0000 11832.2250  0.16%  10.0  341s\n",
      " 91851 58238 11826.2689 1655   45 11813.0000 11832.2250  0.16%  10.0  345s\n",
      " 93149 59637 11825.0664 1997   47 11813.0000 11832.2250  0.16%  10.0  351s\n"
     ]
    }
   ],
   "source": [
    "start = time.time()\n",
    "model.optimize()\n",
    "end = time.time()"
   ]
  },
  {
   "cell_type": "code",
   "execution_count": null,
   "id": "6fd41332",
   "metadata": {},
   "outputs": [],
   "source": [
    "def print_solution(model):\n",
    "    if model.status != GRB.OPTIMAL:\n",
    "        print(\"Model is not Optimized\")\n",
    "    \n",
    "    else:\n",
    "        print('Objective function value: ', model.objVal)\n",
    "        print('Solution time: ', end - start, ' seconds')\n",
    "        print('=================================================')\n",
    "        vars = model.getVars()\n",
    "        values = model.getAttr('x', vars)\n",
    "        for var, val in zip(vars, values):\n",
    "            if val > 1e-6:\n",
    "                print(f\"{var.varName}: {val}\")"
   ]
  },
  {
   "cell_type": "code",
   "execution_count": null,
   "id": "a1f5483a",
   "metadata": {},
   "outputs": [],
   "source": [
    "print_solution(model)"
   ]
  },
  {
   "cell_type": "markdown",
   "id": "f76a1419",
   "metadata": {},
   "source": [
    "## QUESTION 2 "
   ]
  },
  {
   "cell_type": "markdown",
   "id": "fc8c4a21",
   "metadata": {},
   "source": [
    "Reading the data from \"Transportation.xlsx\""
   ]
  },
  {
   "cell_type": "code",
   "execution_count": null,
   "id": "21722e26",
   "metadata": {},
   "outputs": [],
   "source": [
    "A = pd.read_excel(\"/Users/mawulitsimese/Library/Containers/com.microsoft.Excel/Data/Desktop/Transportation.xlsx\")"
   ]
  },
  {
   "cell_type": "code",
   "execution_count": null,
   "id": "5772eb36",
   "metadata": {},
   "outputs": [],
   "source": [
    "A = A.fillna(0)"
   ]
  },
  {
   "cell_type": "code",
   "execution_count": null,
   "id": "322857eb",
   "metadata": {},
   "outputs": [],
   "source": [
    "A"
   ]
  },
  {
   "cell_type": "markdown",
   "id": "9b964b87",
   "metadata": {},
   "source": [
    "#### taking out capacity column and demand row"
   ]
  },
  {
   "cell_type": "code",
   "execution_count": null,
   "id": "68749d8b",
   "metadata": {},
   "outputs": [],
   "source": [
    "B = A.iloc[:5, :9]\n",
    "B"
   ]
  },
  {
   "cell_type": "code",
   "execution_count": null,
   "id": "fd144863",
   "metadata": {},
   "outputs": [],
   "source": [
    "origin = B['City'].tolist()\n",
    "capacity = A.iloc[:5,9:10].values.flatten().tolist()"
   ]
  },
  {
   "cell_type": "code",
   "execution_count": null,
   "id": "e2a73511",
   "metadata": {},
   "outputs": [],
   "source": [
    "dest = list(B.columns.values)\n",
    "dest.remove('City')\n",
    "demand = A.iloc[5:6,1:9].values.flatten().tolist()"
   ]
  },
  {
   "cell_type": "code",
   "execution_count": null,
   "id": "839ca625",
   "metadata": {},
   "outputs": [],
   "source": [
    "originloc = [m for m in origin]\n",
    "destloc = [n for n in dest]\n",
    "assign = [(p, j) for p in origin for j in dest]\n"
   ]
  },
  {
   "cell_type": "code",
   "execution_count": null,
   "id": "f80b2664",
   "metadata": {},
   "outputs": [],
   "source": [
    "arr = B.iloc[0:, 1:].to_numpy().flatten()"
   ]
  },
  {
   "cell_type": "code",
   "execution_count": null,
   "id": "f5e04e2f",
   "metadata": {},
   "outputs": [],
   "source": [
    "Dict= {assign[i]: arr[i] for i in range(len(arr))}"
   ]
  },
  {
   "cell_type": "code",
   "execution_count": null,
   "id": "9f700ccb",
   "metadata": {},
   "outputs": [],
   "source": [
    "assignments, costs = gp.multidict(Dict)"
   ]
  },
  {
   "cell_type": "markdown",
   "id": "bb5c135d",
   "metadata": {},
   "source": [
    "#### making sure the demand dont exceed capacity"
   ]
  },
  {
   "cell_type": "code",
   "execution_count": null,
   "id": "c137757f",
   "metadata": {},
   "outputs": [],
   "source": [
    "Supply= {originloc[i]: capacity[i] for i in range(len(capacity))}\n",
    "Demand= {destloc[j]: demand[j] for j in range(len(demand))}"
   ]
  },
  {
   "cell_type": "code",
   "execution_count": null,
   "id": "1f0cd9d3",
   "metadata": {},
   "outputs": [],
   "source": [
    "if sum(Supply.values()) < sum(Demand.values()):\n",
    "    diff = sum(Demand.values()) - sum(Supply.values()) \n",
    "    Supply[m] += diff"
   ]
  },
  {
   "cell_type": "markdown",
   "id": "8c0016af",
   "metadata": {},
   "source": [
    "#### now we write the model"
   ]
  },
  {
   "cell_type": "code",
   "execution_count": null,
   "id": "54d0b277",
   "metadata": {},
   "outputs": [],
   "source": [
    "model = gp.Model('Transportation')"
   ]
  },
  {
   "cell_type": "code",
   "execution_count": null,
   "id": "01fc011d",
   "metadata": {},
   "outputs": [],
   "source": [
    "x={}\n",
    "for i in origin:\n",
    "    for j in dest:\n",
    "        x[i,j] = model.addVar(vtype=\"C\", name=\"x(%s,%s)\" % (i,j))"
   ]
  },
  {
   "cell_type": "code",
   "execution_count": null,
   "id": "5defd3e7",
   "metadata": {},
   "outputs": [],
   "source": [
    "for i in origin:\n",
    "    model.addConstr(quicksum(x[i, j] for j in dest ) <= Supply[i] , name=\"Supply(%s)\" %i)"
   ]
  },
  {
   "cell_type": "code",
   "execution_count": null,
   "id": "58f64856",
   "metadata": {},
   "outputs": [],
   "source": [
    "for j in dest:\n",
    "    model.addConstr(quicksum(x[i, j] for i in origin ) >= Demand[j] , name=\"Demand(%s)\" % j)"
   ]
  },
  {
   "cell_type": "code",
   "execution_count": null,
   "id": "ae1ad36f",
   "metadata": {},
   "outputs": [],
   "source": [
    "model.setObjective(quicksum(x[i, j]*Dict[i, j] for i, j in assign), GRB.MINIMIZE)"
   ]
  },
  {
   "cell_type": "code",
   "execution_count": null,
   "id": "67925c86",
   "metadata": {},
   "outputs": [],
   "source": [
    "model.update()\n",
    "model.write('0transport.lp')"
   ]
  },
  {
   "cell_type": "code",
   "execution_count": null,
   "id": "dda0981b",
   "metadata": {},
   "outputs": [],
   "source": [
    "start = time.time()\n",
    "model.optimize()\n",
    "end = time.time()"
   ]
  },
  {
   "cell_type": "code",
   "execution_count": null,
   "id": "909af3f9",
   "metadata": {},
   "outputs": [],
   "source": [
    "def print_solution(model):\n",
    "    if model.status != GRB.OPTIMAL:\n",
    "        print(\"Model is not Optimized\")\n",
    "    \n",
    "    else:\n",
    "        print('Objective function value: ', model.objVal)\n",
    "        print('Solution time: ', end - start, ' seconds')\n",
    "        print('=================================================')\n",
    "        vars = model.getVars()\n",
    "        values = model.getAttr('x', vars)\n",
    "        for var, val in zip(vars, values):\n",
    "            if val > 1e-6:\n",
    "                print(f\"{var.varName}: {val}\") "
   ]
  },
  {
   "cell_type": "code",
   "execution_count": null,
   "id": "53fbfa92",
   "metadata": {},
   "outputs": [],
   "source": [
    "print_solution(model)"
   ]
  },
  {
   "cell_type": "code",
   "execution_count": null,
   "id": "d987c5f3",
   "metadata": {},
   "outputs": [],
   "source": []
  },
  {
   "cell_type": "code",
   "execution_count": null,
   "id": "611ea93a",
   "metadata": {},
   "outputs": [],
   "source": []
  }
 ],
 "metadata": {
  "kernelspec": {
   "display_name": "Python 3 (ipykernel)",
   "language": "python",
   "name": "python3"
  },
  "language_info": {
   "codemirror_mode": {
    "name": "ipython",
    "version": 3
   },
   "file_extension": ".py",
   "mimetype": "text/x-python",
   "name": "python",
   "nbconvert_exporter": "python",
   "pygments_lexer": "ipython3",
   "version": "3.9.13"
  }
 },
 "nbformat": 4,
 "nbformat_minor": 5
}
