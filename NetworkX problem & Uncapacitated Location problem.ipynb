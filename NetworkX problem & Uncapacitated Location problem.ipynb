{
 "cells": [
  {
   "cell_type": "markdown",
   "id": "fac1ca22",
   "metadata": {},
   "source": [
    "## QUESTION 4"
   ]
  },
  {
   "cell_type": "markdown",
   "id": "f618fcb7",
   "metadata": {},
   "source": [
    "##### Summary \n",
    "The shop is opened 200 days a year. Since it is normally distributed;\n",
    "\n",
    "$$\n",
    "\\begin{align}\n",
    "\\text{Mean} &= 75 ~ pounds\\\\\n",
    "\\text{S.D} &= 15 ~ pounds\\\\\n",
    "\\text{Lead time} &= 4~days\\\\\n",
    "\\text{Fixed cost} &= 16~dollars~per~order\\\\\n",
    "\\text{Annual Holding Cost} &= 3~dollars~per~pound\\\\\n",
    "\\text{Demand} &= 75*200\\\\  &= 15000\\\\\n",
    "\\end{align}\n",
    "$$\n",
    "\n",
    "Q1)\\\n",
    "economic order quantity (EOQ) for coffee beans\n",
    "$$\n",
    "\\begin{align}\n",
    "\\text{Economic Order Quantity} &= sqrt(\\frac{2*D*S}{H})\\\\\n",
    "&= sqrt(\\frac{2*15000*16}{3})\\\\\n",
    "&= 400\n",
    "\\end{align}\n",
    "$$\n",
    "\n",
    "Q2)\\\n",
    "total annual holding costs of stock for coffee beans\n",
    "$$\n",
    "\\begin{align}\n",
    "\\text{Total Annual Holding Cost} &= \\frac{Q}{2}*H\\\\\n",
    "&= \\frac{400}{2}*3\\\\\n",
    "&= 600~dollars\n",
    "\\end{align}\n",
    "$$\n",
    "\n",
    "Q3)\\\n",
    "total annual ordering costs for coffee beans\n",
    "$$\n",
    "\\begin{align}\n",
    "\\text{Total Annual Ordering Cost} &= \\frac{D}{Q}*S\\\\\n",
    "&= \\frac{15000}{400}*16\\\\\n",
    "&= 600~dollars\n",
    "\\end{align}\n",
    "$$\n",
    "\n",
    "Q4)\\\n",
    "What should the reorder point (ROP) be assuming a risk of 1 percent stockout is acceptable\n",
    "$$\n",
    "\\begin{align}\n",
    "\\text{Stock out risk} &= 1 percent\\\\\n",
    "\\text{CSL} &= 99 percent\\\\\n",
    "\\text{Z score} &= 2.33\\\\\n",
    "\\text{ROP} &= Lead~time~demand + Safety~stock(s.s)\\\\\n",
    "&=75(4) + 2.33(15*sqrt(4))\\\\\n",
    "&= 369.9\n",
    "\\end{align}\n",
    "$$\n",
    "\n",
    "Q5)\\\n",
    "safety stock needed to attain a 1% risk of stockout during the lead time\n",
    "$$\n",
    "\\begin{align}\n",
    "\\text{SS} &= Z * S.D * sqrt(Lead~time)\\\\\n",
    "&= 69.9~dollars\n",
    "\\end{align}\n",
    "$$\n",
    "\n",
    "Q6)\\\n",
    "annual holding cost of maintaining the level of safety stock needed\n",
    "$$\n",
    "\\begin{align}\\\\\n",
    "\\text{SS} &= 69.9 * 3\\\\\n",
    "&= 209.7~dollars\n",
    "\\end{align}\n",
    "$$\n",
    "\n",
    "Q7)\\\n",
    "If 2% risk of stockout during lead time is acceptable, the safety stock holding cost would decrease.\n",
    "$$\n",
    "\\begin{align}\n",
    "\\text{CSL} &= 98~percent\\\\\n",
    "\\text{Z score} &= 2.06~(using~the~z~table)\\\\\n",
    "&= 61.8~dollars\n",
    "\\end{align}\n",
    "$$"
   ]
  },
  {
   "cell_type": "markdown",
   "id": "ea843100",
   "metadata": {},
   "source": [
    "## QUESTION 3 "
   ]
  },
  {
   "cell_type": "markdown",
   "id": "824fd909",
   "metadata": {},
   "source": [
    "##### Summary \n",
    "Magazines are printed 1 week prior to the start of the sales;\n",
    "\n",
    "$$\n",
    "\\begin{align}\n",
    "\\text{Total fans} &= 90,000\\\\\n",
    "\\text{no of fans that bought the issue} &= 2/3 ~of ~90,000 \\\\\n",
    "&= 60,000\\\\\n",
    "\\text{recycling cost} &= 15 ~cent~per~program\\\\\n",
    "\\text{cost to print} &= 1.5~dollars~per~each~program\\\\\n",
    "\\text{S.D} &= 4500~programs\\\\\n",
    "\\end{align}\n",
    "$$\n",
    "\n",
    "Q1)\\\n",
    "the cost of underestimating demand for each program\n",
    "$$\n",
    "\\begin{align}\\\\\n",
    "\\text{Cu} &= sale~price~per~unit - cost~per~unit\\\\\n",
    "&= 4~ dollars - 1.5~ dollars\\\\\n",
    "&= 2.5~dollars\n",
    "\\end{align}\n",
    "$$\n",
    "\n",
    "Q2)\\\n",
    "the cost of overestimating demand for each program\n",
    "$$\n",
    "\\begin{align}\\\\\n",
    "\\text{Co} &= cost~per~unit - salvage~value\\\\\n",
    "&= 1.5~ dollars - 0.15~dollars\\\\\n",
    "&= 1.35~dollars\n",
    "\\end{align}\n",
    "$$\n",
    "\n",
    "Q3)\\\n",
    "The number of programs that should be ordered per game\n",
    "$$\n",
    "\\begin{align}\n",
    "\\text{CSL} &= \\frac{2.5}{2.5+1.35}\\\\\n",
    "&= 0.6494\\\\\n",
    "&= 64.94 ~percent\n",
    "\\end{align}\n",
    "$$\n",
    "\n",
    "We find the z score = 0.3837\n",
    "$$\n",
    "\\begin{align}\n",
    "\\text{Optimal stocking level} &= Mean + Z~score*S.D\\\\\n",
    "\\text{Optimal stocking level} &= 60,000 + (0.3837*4500)\\\\\n",
    "&= 61,726.66\\\\\n",
    "&= 61,727\n",
    "\\end{align}\n",
    "$$\n",
    "\n",
    "Q4)\\\n",
    "stockout risk for this order size\n",
    "$$\n",
    "\\begin{align}\n",
    "\\text{stock out risk} &= 1 - CSL\\\\\n",
    "\\text{stock out risk} &= 1 - 0.6494\\\\\n",
    "&= 0.3506\\\\\n",
    "&= 35.06~percent\n",
    "\\end{align}\n",
    "$$"
   ]
  },
  {
   "cell_type": "markdown",
   "id": "f1fb88cf",
   "metadata": {},
   "source": [
    "## QUESTION 2"
   ]
  },
  {
   "cell_type": "markdown",
   "id": "7f622ecf",
   "metadata": {},
   "source": [
    "#### Uncapacitated facility location problem"
   ]
  },
  {
   "cell_type": "code",
   "execution_count": 190,
   "id": "01e31934",
   "metadata": {},
   "outputs": [],
   "source": [
    "import gurobipy as gp\n",
    "from gurobipy import  Model, GRB, quicksum\n",
    "import numpy as np\n",
    "import time\n",
    "import math\n",
    "import matplotlib.pyplot as plt"
   ]
  },
  {
   "cell_type": "markdown",
   "id": "ba8c14cb",
   "metadata": {},
   "source": [
    "##### setting parameters"
   ]
  },
  {
   "cell_type": "code",
   "execution_count": 191,
   "id": "8aaace8d",
   "metadata": {},
   "outputs": [],
   "source": [
    "rnd = np.random\n",
    "rnd.seed(89)      #we want to get the same random values"
   ]
  },
  {
   "cell_type": "code",
   "execution_count": 192,
   "id": "266924dd",
   "metadata": {},
   "outputs": [],
   "source": [
    "m = 120 # number of demand points (customers)\n",
    "n = 10 # number of facilities"
   ]
  },
  {
   "cell_type": "code",
   "execution_count": 193,
   "id": "aafab3a0",
   "metadata": {},
   "outputs": [],
   "source": [
    "Demand = [i for i in range(1, m + 1)]\n",
    "Facility = [j for j in range(1, n + 1)] #generating randomly"
   ]
  },
  {
   "cell_type": "code",
   "execution_count": 194,
   "id": "6312c1fc",
   "metadata": {},
   "outputs": [],
   "source": [
    "fixed_cost = {j : rnd.randint(100, 500) for j in Facility} #generating fixed cost"
   ]
  },
  {
   "cell_type": "markdown",
   "id": "d6e515c6",
   "metadata": {},
   "source": [
    "##### setting the grid"
   ]
  },
  {
   "cell_type": "code",
   "execution_count": 195,
   "id": "67c956f4",
   "metadata": {},
   "outputs": [],
   "source": [
    "x_F = [ rnd.randint(0, 200) for j in Facility ]\n",
    "y_F = [ rnd.randint(0, 200) for j in Facility ]"
   ]
  },
  {
   "cell_type": "code",
   "execution_count": 196,
   "id": "41207c4a",
   "metadata": {},
   "outputs": [],
   "source": [
    "x_D = [ rnd.randint(0, 200) for i in Demand ]\n",
    "y_D = [ rnd.randint(0, 200) for i in Demand ]"
   ]
  },
  {
   "cell_type": "code",
   "execution_count": 197,
   "id": "388d1822",
   "metadata": {},
   "outputs": [
    {
     "data": {
      "image/png": "[encoded data removed]",
      "text/plain": [
       "<Figure size 640x480 with 1 Axes>"
      ]
     },
     "metadata": {},
     "output_type": "display_data"
    }
   ],
   "source": [
    "plt.xlim(0,200)\n",
    "plt.ylim(0,200)\n",
    "plt.scatter(x_F, y_F)\n",
    "plt.scatter(x_D, y_D)\n",
    "plt.title('Facilities & Demand Points')\n",
    "plt.show()"
   ]
  },
  {
   "cell_type": "markdown",
   "id": "d0436a8b",
   "metadata": {},
   "source": [
    "##### using rectilinear method to calculate distance between nodes"
   ]
  },
  {
   "cell_type": "code",
   "execution_count": 198,
   "id": "3e21c93e",
   "metadata": {},
   "outputs": [],
   "source": [
    "def Calculate_distance(x_F , y_F , x_D ,y_D):\n",
    "    return ( abs(x_F - x_D) + abs(y_F - y_D))"
   ]
  },
  {
   "cell_type": "markdown",
   "id": "e495785f",
   "metadata": {},
   "source": [
    "#### creating a combination with i , j to include distance"
   ]
  },
  {
   "cell_type": "code",
   "execution_count": 199,
   "id": "1c7893df",
   "metadata": {},
   "outputs": [],
   "source": [
    "c = { (i,j) : Calculate_distance( x_F[j-1] , y_F[j-1] , x_D[i-1] , y_D[i-1] ) for j in Facility for i in Demand }"
   ]
  },
  {
   "cell_type": "markdown",
   "id": "942dd2b7",
   "metadata": {},
   "source": [
    "#### Declaring the model"
   ]
  },
  {
   "cell_type": "code",
   "execution_count": 200,
   "id": "6551b801",
   "metadata": {},
   "outputs": [],
   "source": [
    "model = gp.Model('CFLP')"
   ]
  },
  {
   "cell_type": "markdown",
   "id": "0e034bdd",
   "metadata": {},
   "source": [
    "#### Decision variables"
   ]
  },
  {
   "cell_type": "code",
   "execution_count": 201,
   "id": "98839c45",
   "metadata": {},
   "outputs": [],
   "source": [
    "x = model.addVars(Demand, Facility, vtype= GRB.BINARY, name = 'x')"
   ]
  },
  {
   "cell_type": "code",
   "execution_count": 202,
   "id": "0d12cd19",
   "metadata": {},
   "outputs": [],
   "source": [
    "y = model.addVars(Facility , vtype = GRB.BINARY, name = 'y' )"
   ]
  },
  {
   "cell_type": "markdown",
   "id": "d26df2b2",
   "metadata": {},
   "source": [
    "#### Constraint"
   ]
  },
  {
   "cell_type": "code",
   "execution_count": 203,
   "id": "48656916",
   "metadata": {},
   "outputs": [],
   "source": [
    "Demand_c = model.addConstrs(gp.quicksum( x[i,j] for j in Facility ) == 1 for i in Demand)"
   ]
  },
  {
   "cell_type": "code",
   "execution_count": 204,
   "id": "abac087b",
   "metadata": {},
   "outputs": [],
   "source": [
    "Facility_c = model.addConstrs( x[i,j] <= y[j] for i in Demand for j in Facility )"
   ]
  },
  {
   "cell_type": "markdown",
   "id": "4569eb98",
   "metadata": {},
   "source": [
    "#### Objective function"
   ]
  },
  {
   "cell_type": "code",
   "execution_count": 205,
   "id": "f038f714",
   "metadata": {},
   "outputs": [],
   "source": [
    "model.setObjective( gp.quicksum( c[i,j] * x[i,j] for i in Demand for j in Facility ) \n",
    "               + gp.quicksum( fixed_cost[j] * y[j] for j in Facility ) , GRB.MINIMIZE )"
   ]
  },
  {
   "cell_type": "markdown",
   "id": "4b321d70",
   "metadata": {},
   "source": [
    "#### update and write model"
   ]
  },
  {
   "cell_type": "code",
   "execution_count": 206,
   "id": "97b09845",
   "metadata": {},
   "outputs": [],
   "source": [
    "model.update()\n",
    "model.write('0UFLP.lp')"
   ]
  },
  {
   "cell_type": "markdown",
   "id": "59232b48",
   "metadata": {},
   "source": [
    "#### solving the model"
   ]
  },
  {
   "cell_type": "code",
   "execution_count": 207,
   "id": "0e0bbbd6",
   "metadata": {},
   "outputs": [
    {
     "name": "stdout",
     "output_type": "stream",
     "text": [
      "Gurobi Optimizer version 10.0.0 build v10.0.0rc2 (mac64[x86])\n",
      "\n",
      "CPU model: Intel(R) Core(TM) i3-1000NG4 CPU @ 1.10GHz\n",
      "Thread count: 2 physical cores, 4 logical processors, using up to 4 threads\n",
      "\n",
      "Optimize a model with 1320 rows, 1210 columns and 3600 nonzeros\n",
      "Model fingerprint: 0xd6019d17\n",
      "Variable types: 0 continuous, 1210 integer (1210 binary)\n",
      "Coefficient statistics:\n",
      "  Matrix range     [1e+00, 1e+00]\n",
      "  Objective range  [7e+00, 5e+02]\n",
      "  Bounds range     [1e+00, 1e+00]\n",
      "  RHS range        [1e+00, 1e+00]\n",
      "Found heuristic solution: objective 20917.000000\n",
      "Presolve removed 22 rows and 20 columns\n",
      "Presolve time: 0.02s\n",
      "Presolved: 1298 rows, 1190 columns, 3540 nonzeros\n",
      "Found heuristic solution: objective 12422.000000\n",
      "Variable types: 0 continuous, 1190 integer (1190 binary)\n",
      "Found heuristic solution: objective 7814.0000000\n",
      "\n",
      "Root relaxation: objective 7.558000e+03, 235 iterations, 0.00 seconds (0.00 work units)\n",
      "\n",
      "    Nodes    |    Current Node    |     Objective Bounds      |     Work\n",
      " Expl Unexpl |  Obj  Depth IntInf | Incumbent    BestBd   Gap | It/Node Time\n",
      "\n",
      "*    0     0               0    7558.0000000 7558.00000  0.00%     -    0s\n",
      "\n",
      "Explored 1 nodes (235 simplex iterations) in 0.11 seconds (0.01 work units)\n",
      "Thread count was 4 (of 4 available processors)\n",
      "\n",
      "Solution count 4: 7558 7814 12422 20917 \n",
      "\n",
      "Optimal solution found (tolerance 1.00e-04)\n",
      "Best objective 7.558000000000e+03, best bound 7.558000000000e+03, gap 0.0000%\n"
     ]
    }
   ],
   "source": [
    "start = time.time()\n",
    "model.optimize()\n",
    "end = time.time()"
   ]
  },
  {
   "cell_type": "code",
   "execution_count": 208,
   "id": "ba577fff",
   "metadata": {},
   "outputs": [],
   "source": [
    "def print_solution(model):\n",
    "    if model.status != GRB.OPTIMAL:\n",
    "        print(\"Model is not Optimized\")\n",
    "    \n",
    "    else:\n",
    "        print('Objective function value: ', model.objVal)\n",
    "        print('Solution time: ', end - start, ' seconds')\n",
    "        print('=================================================')\n",
    "        vars = model.getVars()\n",
    "        values = model.getAttr('x', vars)\n",
    "        for var, val in zip(vars, values):\n",
    "            if val > 1e-6:\n",
    "                print(f\"{var.varName}: {val}\") "
   ]
  },
  {
   "cell_type": "code",
   "execution_count": 209,
   "id": "51bd5be5",
   "metadata": {},
   "outputs": [
    {
     "name": "stdout",
     "output_type": "stream",
     "text": [
      "Objective function value:  7558.0\n",
      "Solution time:  0.1412348747253418  seconds\n",
      "=================================================\n",
      "x[1,7]: 1.0\n",
      "x[2,1]: 1.0\n",
      "x[3,6]: 1.0\n",
      "x[4,4]: 1.0\n",
      "x[5,4]: 1.0\n",
      "x[6,7]: 1.0\n",
      "x[7,3]: 1.0\n",
      "x[8,7]: 1.0\n",
      "x[9,3]: 1.0\n",
      "x[10,4]: 1.0\n",
      "x[11,4]: 1.0\n",
      "x[12,1]: 1.0\n",
      "x[13,1]: 1.0\n",
      "x[14,4]: 1.0\n",
      "x[15,6]: 1.0\n",
      "x[16,7]: 1.0\n",
      "x[17,4]: 1.0\n",
      "x[18,2]: 1.0\n",
      "x[19,3]: 1.0\n",
      "x[20,2]: 1.0\n",
      "x[21,1]: 1.0\n",
      "x[22,6]: 1.0\n",
      "x[23,4]: 1.0\n",
      "x[24,4]: 1.0\n",
      "x[25,6]: 1.0\n",
      "x[26,7]: 1.0\n",
      "x[27,7]: 1.0\n",
      "x[28,4]: 1.0\n",
      "x[29,6]: 1.0\n",
      "x[30,7]: 1.0\n",
      "x[31,7]: 1.0\n",
      "x[32,1]: 1.0\n",
      "x[33,7]: 1.0\n",
      "x[34,7]: 1.0\n",
      "x[35,4]: 1.0\n",
      "x[36,1]: 1.0\n",
      "x[37,6]: 1.0\n",
      "x[38,6]: 1.0\n",
      "x[39,4]: 1.0\n",
      "x[40,7]: 1.0\n",
      "x[41,4]: 1.0\n",
      "x[42,7]: 1.0\n",
      "x[43,7]: 1.0\n",
      "x[44,7]: 1.0\n",
      "x[45,6]: 1.0\n",
      "x[46,4]: 1.0\n",
      "x[47,7]: 1.0\n",
      "x[48,7]: 1.0\n",
      "x[49,1]: 1.0\n",
      "x[50,6]: 1.0\n",
      "x[51,7]: 1.0\n",
      "x[52,2]: 1.0\n",
      "x[53,3]: 1.0\n",
      "x[54,3]: 1.0\n",
      "x[55,2]: 1.0\n",
      "x[56,7]: 1.0\n",
      "x[57,7]: 1.0\n",
      "x[58,2]: 1.0\n",
      "x[59,4]: 1.0\n",
      "x[60,3]: 1.0\n",
      "x[61,4]: 1.0\n",
      "x[62,6]: 1.0\n",
      "x[63,6]: 1.0\n",
      "x[64,2]: 1.0\n",
      "x[65,7]: 1.0\n",
      "x[66,4]: 1.0\n",
      "x[67,4]: 1.0\n",
      "x[68,4]: 1.0\n",
      "x[69,7]: 1.0\n",
      "x[70,4]: 1.0\n",
      "x[71,6]: 1.0\n",
      "x[72,4]: 1.0\n",
      "x[73,3]: 1.0\n",
      "x[74,7]: 1.0\n",
      "x[75,2]: 1.0\n",
      "x[76,3]: 1.0\n",
      "x[77,2]: 1.0\n",
      "x[78,6]: 1.0\n",
      "x[79,7]: 1.0\n",
      "x[80,2]: 1.0\n",
      "x[81,1]: 1.0\n",
      "x[82,6]: 1.0\n",
      "x[83,2]: 1.0\n",
      "x[84,4]: 1.0\n",
      "x[85,6]: 1.0\n",
      "x[86,7]: 1.0\n",
      "x[87,4]: 1.0\n",
      "x[88,7]: 1.0\n",
      "x[89,7]: 1.0\n",
      "x[90,1]: 1.0\n",
      "x[91,3]: 1.0\n",
      "x[92,2]: 1.0\n",
      "x[93,2]: 1.0\n",
      "x[94,2]: 1.0\n",
      "x[95,7]: 1.0\n",
      "x[96,6]: 1.0\n",
      "x[97,1]: 1.0\n",
      "x[98,6]: 1.0\n",
      "x[99,7]: 1.0\n",
      "x[100,1]: 1.0\n",
      "x[101,7]: 1.0\n",
      "x[102,3]: 1.0\n",
      "x[103,4]: 1.0\n",
      "x[104,1]: 1.0\n",
      "x[105,4]: 1.0\n",
      "x[106,4]: 1.0\n",
      "x[107,7]: 1.0\n",
      "x[108,1]: 1.0\n",
      "x[109,6]: 1.0\n",
      "x[110,7]: 1.0\n",
      "x[111,7]: 1.0\n",
      "x[112,4]: 1.0\n",
      "x[113,7]: 1.0\n",
      "x[114,4]: 1.0\n",
      "x[115,1]: 1.0\n",
      "x[116,7]: 1.0\n",
      "x[117,3]: 1.0\n",
      "x[118,1]: 1.0\n",
      "x[119,1]: 1.0\n",
      "x[120,3]: 1.0\n",
      "y[1]: 1.0\n",
      "y[2]: 1.0\n",
      "y[3]: 1.0\n",
      "y[4]: 1.0\n",
      "y[6]: 1.0\n",
      "y[7]: 1.0\n"
     ]
    }
   ],
   "source": [
    "print_solution(model)"
   ]
  },
  {
   "cell_type": "markdown",
   "id": "f754133f",
   "metadata": {},
   "source": [
    "#### plotting the distributions"
   ]
  },
  {
   "cell_type": "code",
   "execution_count": 210,
   "id": "e911f12a",
   "metadata": {},
   "outputs": [
    {
     "name": "stdout",
     "output_type": "stream",
     "text": [
      "No. of Demands that are served by Facility 1 :  16\n",
      "No. of Demands that are served by Facility 2 :  13\n",
      "No. of Demands that are served by Facility 3 :  12\n",
      "No. of Demands that are served by Facility 4 :  27\n",
      "No. of Demands that are served by Facility 6 :  18\n",
      "No. of Demands that are served by Facility 7 :  34\n"
     ]
    },
    {
     "data": {
      "image/png": "[encoded data removed]",
      "text/plain": [
       "<Figure size 640x480 with 1 Axes>"
      ]
     },
     "metadata": {},
     "output_type": "display_data"
    }
   ],
   "source": [
    "plt.xlim(0,200)\n",
    "plt.ylim(0,200)\n",
    "plt.title('Assignment of Customers to Facilities')\n",
    "\n",
    "selected_facilities = [ j for j in Facility if y[j].x > 0 ]\n",
    "\n",
    "for k in range(len(selected_facilities)):\n",
    "    j = selected_facilities[k]\n",
    "    served_by_k = [ i for i in Demand if x[i,j].x > 0.5 ]\n",
    "    x_S = [ x_D[j-1] for j in served_by_k ]\n",
    "    y_S = [ y_D[j-1] for j in served_by_k ]\n",
    "    plt.scatter(x_S, y_S)\n",
    "    print(\"No. of Demands that are served by Facility\",j,\": \",len(served_by_k))\n"
   ]
  },
  {
   "cell_type": "markdown",
   "id": "b58ac7fb",
   "metadata": {},
   "source": [
    "## QUESTION 1"
   ]
  },
  {
   "cell_type": "code",
   "execution_count": 211,
   "id": "67557363",
   "metadata": {},
   "outputs": [],
   "source": [
    "import networkx as nx\n",
    "import random"
   ]
  },
  {
   "cell_type": "code",
   "execution_count": 212,
   "id": "7b704cad",
   "metadata": {},
   "outputs": [
    {
     "data": {
      "image/png": "[encoded data removed]",
      "text/plain": [
       "<Figure size 640x480 with 1 Axes>"
      ]
     },
     "metadata": {},
     "output_type": "display_data"
    }
   ],
   "source": [
    "DG = nx.DiGraph(nx.karate_club_graph())\n",
    "nx.draw(DG, with_labels = True)"
   ]
  },
  {
   "cell_type": "markdown",
   "id": "e9dd4ca4",
   "metadata": {},
   "source": [
    "#### setting parameters"
   ]
  },
  {
   "cell_type": "code",
   "execution_count": 213,
   "id": "d448f6b9",
   "metadata": {},
   "outputs": [],
   "source": [
    "DG.add_nodes_from(range(34))"
   ]
  },
  {
   "cell_type": "code",
   "execution_count": 214,
   "id": "4bf1cb32",
   "metadata": {},
   "outputs": [],
   "source": [
    "supply_nodes = range(17)\n",
    "demand_nodes = range(17, 34)"
   ]
  },
  {
   "cell_type": "code",
   "execution_count": 215,
   "id": "d25b0394",
   "metadata": {},
   "outputs": [],
   "source": [
    "for i in supply_nodes:\n",
    "    DG.nodes[i][\"Value\"] = np.random.randint(1,100)\n",
    "    DG.nodes[i][\"Type\"] = \"Supply\"\n",
    "\n",
    "for i in demand_nodes:\n",
    "    DG.nodes[i][\"Value\"] = -1 * DG.nodes[33-i][\"Value\"]\n",
    "    DG.nodes[i][\"Type\"] = \"Demand\""
   ]
  },
  {
   "cell_type": "code",
   "execution_count": 216,
   "id": "6a9f8046",
   "metadata": {},
   "outputs": [
    {
     "name": "stdout",
     "output_type": "stream",
     "text": [
      "Supply Sum: 885\n",
      "Demand Sum: -885\n"
     ]
    }
   ],
   "source": [
    "supply_sum = 0\n",
    "demand_sum = 0\n",
    "\n",
    "for i in range(34):\n",
    "    node = DG.nodes[i]\n",
    "    if node[\"Type\"] == \"Demand\":\n",
    "        demand_sum += node[\"Value\"]\n",
    "    else:\n",
    "        supply_sum += node[\"Value\"]\n",
    "\n",
    "print(\"Supply Sum:\", supply_sum)\n",
    "print(\"Demand Sum:\", demand_sum)\n"
   ]
  },
  {
   "cell_type": "markdown",
   "id": "246e4e55",
   "metadata": {},
   "source": [
    "#### setting the capacity and cost parameter"
   ]
  },
  {
   "cell_type": "code",
   "execution_count": 217,
   "id": "0658cbfb",
   "metadata": {},
   "outputs": [],
   "source": [
    "for i in range(34):\n",
    "    for j in range(34):\n",
    "        nx.set_edge_attributes(DG, {(i, j): {\"Capacity\": np.random.randint(100,1000)}})"
   ]
  },
  {
   "cell_type": "code",
   "execution_count": 218,
   "id": "7de14d90",
   "metadata": {},
   "outputs": [],
   "source": [
    "for i in range(34):\n",
    "    for j in range(34):\n",
    "        nx.set_edge_attributes(DG, {(i, j): {\"Cost\":np.random.randint(1,100)}})"
   ]
  },
  {
   "cell_type": "markdown",
   "id": "5336d2b2",
   "metadata": {},
   "source": [
    "#### model deployment"
   ]
  },
  {
   "cell_type": "code",
   "execution_count": 219,
   "id": "104357af",
   "metadata": {},
   "outputs": [],
   "source": [
    "model = gp.Model('Minimum Cost Flow')"
   ]
  },
  {
   "cell_type": "markdown",
   "id": "d351bcc6",
   "metadata": {},
   "source": [
    "#### decision variables"
   ]
  },
  {
   "cell_type": "code",
   "execution_count": 220,
   "id": "a1faf519",
   "metadata": {},
   "outputs": [],
   "source": [
    "x = model.addVars( DG.edges, vtype = GRB.CONTINUOUS, name = 'arcs'  )"
   ]
  },
  {
   "cell_type": "markdown",
   "id": "e3375c63",
   "metadata": {},
   "source": [
    "#### setting constraint"
   ]
  },
  {
   "cell_type": "code",
   "execution_count": 221,
   "id": "d16e1422",
   "metadata": {},
   "outputs": [],
   "source": [
    "for i in DG.nodes:\n",
    "    model.addConstr(gp.quicksum( x[i,j] for j in DG.successors(i)) - gp.quicksum( x[j,i] for j in DG.predecessors(i) ) == DG.nodes[i][\"Value\"])  "
   ]
  },
  {
   "cell_type": "code",
   "execution_count": 222,
   "id": "c09813b9",
   "metadata": {},
   "outputs": [],
   "source": [
    "for edge in nx.edges(DG, nbunch=None):\n",
    "    Capacity = nx.get_edge_attributes(DG, \"Capacity\")\n",
    "    model.addConstr(x[edge[0],edge[1]] <= Capacity[(edge[0],edge[1])])"
   ]
  },
  {
   "cell_type": "code",
   "execution_count": 223,
   "id": "b04a4901",
   "metadata": {},
   "outputs": [],
   "source": [
    "for edge in nx.edges(DG, nbunch=None):\n",
    "    Capacity = nx.get_edge_attributes(DG, \"Capacity\")\n",
    "    model.addConstr(x[edge[0],edge[1]] >= 0)"
   ]
  },
  {
   "cell_type": "markdown",
   "id": "b9c836e0",
   "metadata": {},
   "source": [
    "#### objective function"
   ]
  },
  {
   "cell_type": "code",
   "execution_count": 224,
   "id": "238a60f0",
   "metadata": {},
   "outputs": [],
   "source": [
    "model.setObjective( gp.quicksum( DG.edges[edge]['Cost'] * x[edge] for edge in DG.edges ), GRB.MINIMIZE )"
   ]
  },
  {
   "cell_type": "markdown",
   "id": "7d0eae88",
   "metadata": {},
   "source": [
    "#### update & writing the model"
   ]
  },
  {
   "cell_type": "code",
   "execution_count": 225,
   "id": "159f42d5",
   "metadata": {},
   "outputs": [],
   "source": [
    "model.update()\n",
    "model.write('MinCostFlow.lp')"
   ]
  },
  {
   "cell_type": "code",
   "execution_count": 226,
   "id": "d56c5245",
   "metadata": {},
   "outputs": [
    {
     "name": "stdout",
     "output_type": "stream",
     "text": [
      "Gurobi Optimizer version 10.0.0 build v10.0.0rc2 (mac64[x86])\n",
      "\n",
      "CPU model: Intel(R) Core(TM) i3-1000NG4 CPU @ 1.10GHz\n",
      "Thread count: 2 physical cores, 4 logical processors, using up to 4 threads\n",
      "\n",
      "Optimize a model with 346 rows, 156 columns and 624 nonzeros\n",
      "Model fingerprint: 0x235fc48b\n",
      "Coefficient statistics:\n",
      "  Matrix range     [1e+00, 1e+00]\n",
      "  Objective range  [1e+00, 1e+02]\n",
      "  Bounds range     [0e+00, 0e+00]\n",
      "  RHS range        [7e+00, 1e+03]\n",
      "Presolve removed 314 rows and 2 columns\n",
      "Presolve time: 0.05s\n",
      "Presolved: 32 rows, 154 columns, 278 nonzeros\n",
      "\n",
      "Iteration    Objective       Primal Inf.    Dual Inf.      Time\n",
      "       0    1.2740000e+03   2.088750e+02   0.000000e+00      0s\n",
      "      47    8.2757000e+04   0.000000e+00   0.000000e+00      0s\n",
      "\n",
      "Solved in 47 iterations and 0.08 seconds (0.00 work units)\n",
      "Optimal objective  8.275700000e+04\n"
     ]
    }
   ],
   "source": [
    "start = time.time()\n",
    "model.optimize()\n",
    "end = time.time()"
   ]
  },
  {
   "cell_type": "code",
   "execution_count": 227,
   "id": "8687133f",
   "metadata": {},
   "outputs": [],
   "source": [
    "def print_solution(model):\n",
    "    if model.status != GRB.OPTIMAL:\n",
    "        print(\"Model is not Optimized\")\n",
    "    \n",
    "    else:\n",
    "        print('Objective function value: ', model.objVal)\n",
    "        print('Solution time: ', end - start, ' seconds')\n",
    "        print('=================================================')\n",
    "        vars = model.getVars()\n",
    "        values = model.getAttr('x', vars)\n",
    "        for var, val in zip(vars, values):\n",
    "            if val > 1e-6:\n",
    "                print(f\"{var.varName}: {val}\") "
   ]
  },
  {
   "cell_type": "code",
   "execution_count": 228,
   "id": "aff1bf6f",
   "metadata": {},
   "outputs": [
    {
     "name": "stdout",
     "output_type": "stream",
     "text": [
      "Objective function value:  82757.0\n",
      "Solution time:  0.10371708869934082  seconds\n",
      "=================================================\n",
      "arcs[0,1]: 216.0\n",
      "arcs[0,31]: 335.0\n",
      "arcs[1,2]: 74.0\n",
      "arcs[1,17]: 73.0\n",
      "arcs[1,19]: 50.0\n",
      "arcs[1,21]: 63.0\n",
      "arcs[1,30]: 13.0\n",
      "arcs[2,28]: 98.0\n",
      "arcs[3,13]: 88.0\n",
      "arcs[4,0]: 70.0\n",
      "arcs[5,0]: 319.0\n",
      "arcs[6,5]: 59.0\n",
      "arcs[7,3]: 68.0\n",
      "arcs[8,30]: 7.0\n",
      "arcs[9,33]: 17.0\n",
      "arcs[10,5]: 89.0\n",
      "arcs[11,0]: 49.0\n",
      "arcs[12,0]: 63.0\n",
      "arcs[13,33]: 95.0\n",
      "arcs[14,32]: 50.0\n",
      "arcs[15,32]: 14.0\n",
      "arcs[15,33]: 70.0\n",
      "arcs[16,5]: 73.0\n",
      "arcs[24,27]: 59.0\n",
      "arcs[25,23]: 89.0\n",
      "arcs[25,24]: 76.0\n",
      "arcs[29,26]: 68.0\n",
      "arcs[31,25]: 172.0\n",
      "arcs[31,33]: 139.0\n",
      "arcs[32,20]: 7.0\n",
      "arcs[33,18]: 84.0\n",
      "arcs[33,29]: 138.0\n",
      "arcs[33,22]: 49.0\n"
     ]
    }
   ],
   "source": [
    "print_solution(model)"
   ]
  },
  {
   "cell_type": "code",
   "execution_count": null,
   "id": "f910077e",
   "metadata": {},
   "outputs": [],
   "source": []
  }
 ],
 "metadata": {
  "kernelspec": {
   "display_name": "Python 3 (ipykernel)",
   "language": "python",
   "name": "python3"
  },
  "language_info": {
   "codemirror_mode": {
    "name": "ipython",
    "version": 3
   },
   "file_extension": ".py",
   "mimetype": "text/x-python",
   "name": "python",
   "nbconvert_exporter": "python",
   "pygments_lexer": "ipython3",
   "version": "3.9.13"
  }
 },
 "nbformat": 4,
 "nbformat_minor": 5
}
